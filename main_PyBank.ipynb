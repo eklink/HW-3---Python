{
 "cells": [
  {
   "cell_type": "code",
   "execution_count": 1,
   "metadata": {},
   "outputs": [],
   "source": [
    "# import modules operating system & read csv\n",
    "import os\n",
    "import csv "
   ]
  },
  {
   "cell_type": "code",
   "execution_count": 2,
   "metadata": {},
   "outputs": [],
   "source": [
    "#create financial analysis\n",
    "# define variables\n",
    "Months = 0\n",
    "P_L = 0\n",
    "past = 0\n",
    "increase = 0\n",
    "decrease = 0\n",
    "\n",
    "#create a list to store revenue change\n",
    "revChange = []"
   ]
  },
  {
   "cell_type": "code",
   "execution_count": 3,
   "metadata": {},
   "outputs": [],
   "source": [
    "# read in CSV file. Define CSV path \n",
    "csvpath = os.path.join('budget_data.csv')"
   ]
  },
  {
   "cell_type": "code",
   "execution_count": 4,
   "metadata": {},
   "outputs": [
    {
     "name": "stdout",
     "output_type": "stream",
     "text": [
      "<_csv.reader object at 0x00000234420FA250>\n"
     ]
    }
   ],
   "source": [
    "# open CSV file\n",
    "with open(csvpath,newline='') as csvfile:\n",
    "    csvreader = csv.reader(csvfile,delimiter=',')\n",
    "    print(csvreader)\n",
    "    next (csvreader, None)\n",
    "    for row in csvreader:\n",
    "        #count total months\n",
    "        Months = Months + 1\n",
    "        #total revenue\n",
    "        P_L = P_L + (int(row[1]))\n",
    "        #define variable that will count the rev change\n",
    "        monthlychange = int(row[1]) - past\n",
    "        past = int(row[1])\n",
    "        # included calculated in new list    \n",
    "        revChange.append(monthlychange)\n",
    "        #caluclate the average change in revenue\n",
    "        avgRevChange = round(sum(revChange)/Months)\n",
    "        #calcuate the greatest increase in revenue\n",
    "        if (monthlychange > increase):\n",
    "            increase = [0]\n",
    "            highestincmonth = row[0]\n",
    "            increase = monthlychange\n",
    "        #calculate the greatest decrease\n",
    "        if(monthlychange < decrease):\n",
    "            lowestdecmonth = row[0]\n",
    "            decrease = monthlychange\n",
    "                   \n",
    "               "
   ]
  },
  {
   "cell_type": "code",
   "execution_count": 5,
   "metadata": {},
   "outputs": [
    {
     "name": "stdout",
     "output_type": "stream",
     "text": [
      "Financial Analysis \n",
      "------------------------- \n",
      "Total Months: 86 \n",
      "Total Revenue: $38382578 \n",
      "Avg Revenue Change: $7803 \n",
      "Greatest Increase in Revenue: Feb-2012 ($1926159) \n",
      "Greatest Descrease in Revenue: Sep-2013 ($-2196167) \n",
      "\n"
     ]
    }
   ],
   "source": [
    "# f-strings to print financial results\n",
    "Results = (\n",
    "f\"Financial Analysis \\n\"\n",
    "f\"------------------------- \\n\"\n",
    "f\"Total Months: {Months} \\n\"\n",
    "f\"Total Revenue: ${P_L} \\n\"\n",
    "f\"Avg Revenue Change: ${avgRevChange} \\n\"\n",
    "f\"Greatest Increase in Revenue: {highestincmonth} (${increase}) \\n\"\n",
    "f\"Greatest Descrease in Revenue: {lowestdecmonth} (${decrease}) \\n\")\n",
    "print(Results)\n"
   ]
  },
  {
   "cell_type": "code",
   "execution_count": 7,
   "metadata": {},
   "outputs": [],
   "source": [
    "with open('financial_analysis.txt', 'w') as text:\n",
    "    text.write(\"----------------------------------------------------------\\n\")\n",
    "    text.write(\"  Financial Analysis\"+ \"\\n\")\n",
    "    text.write(\"----------------------------------------------------------\\n\\n\")\n",
    "    text.write(\"    Total Months: \" + str(Months) + \"\\n\")\n",
    "    text.write(\"    Total Profits: \" + \"$\" + str(P_L) +\"\\n\")\n",
    "    text.write(\"    Average Change: \" + '$' + str(avgRevChange) + \"\\n\")\n",
    "    text.write(\"    Greatest Increase in Profits: \" + str(highestincmonth) + \" ($\" + str(increase) + \")\\n\")\n",
    "    text.write(\"    Greatest Decrease in Profits: \" + str(lowestdecmonth) + \" ($\" + str(decrease) + \")\\n\")\n",
    "    text.write(\"----------------------------------------------------------\\n\")\n",
    "    "
   ]
  },
  {
   "cell_type": "code",
   "execution_count": null,
   "metadata": {},
   "outputs": [],
   "source": []
  }
 ],
 "metadata": {
  "kernelspec": {
   "display_name": "Python 3",
   "language": "python",
   "name": "python3"
  },
  "language_info": {
   "codemirror_mode": {
    "name": "ipython",
    "version": 3
   },
   "file_extension": ".py",
   "mimetype": "text/x-python",
   "name": "python",
   "nbconvert_exporter": "python",
   "pygments_lexer": "ipython3",
   "version": "3.7.3"
  }
 },
 "nbformat": 4,
 "nbformat_minor": 2
}
