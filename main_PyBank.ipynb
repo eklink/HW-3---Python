{
 "cells": [
  {
   "cell_type": "code",
   "execution_count": 22,
   "metadata": {},
   "outputs": [],
   "source": [
    "# import modules operating system & read csv\n",
    "import os\n",
    "import csv "
   ]
  },
  {
   "cell_type": "code",
   "execution_count": 23,
   "metadata": {},
   "outputs": [],
   "source": [
    "#create financial analysis\n",
    "# define variables\n",
    "Months = 0\n",
    "P_L = 0\n",
    "past = 0\n",
    "increase = 0\n",
    "decrease = 0\n",
    "\n",
    "#create a list to store revenue change\n",
    "revChange = []"
   ]
  },
  {
   "cell_type": "code",
   "execution_count": 24,
   "metadata": {},
   "outputs": [],
   "source": [
    "# read in CSV file. Define CSV path \n",
    "csvpath = os.path.join('budget_data.csv')"
   ]
  },
  {
   "cell_type": "code",
   "execution_count": 26,
   "metadata": {},
   "outputs": [
    {
     "name": "stdout",
     "output_type": "stream",
     "text": [
      "<_csv.reader object at 0x00000203631315F8>\n"
     ]
    }
   ],
   "source": [
    "# open CSV file\n",
    "with open(csvpath,newline='') as csvfile:\n",
    "    csvreader = csv.reader(csvfile,delimiter=',')\n",
    "    print(csvreader)\n",
    "    next (csvreader, None)\n",
    "    for row in csvreader:\n",
    "        #count total months\n",
    "        Months = Months + 1\n",
    "        #total revenue\n",
    "        P_L = P_L + (int(row[1]))\n",
    "        #define variable that will count the rev change\n",
    "        monthlychange = int(row[1]) - past\n",
    "        past = int(row[1])\n",
    "        # included calculated in new list    \n",
    "        revChange.append(monthlychange)\n",
    "        #caluclate the average change in revenue\n",
    "        avgRevChange = round(sum(revChange)/Months)\n",
    "        #calcuate the greatest increase in revenue\n",
    "        if (monthlychange > increase):\n",
    "            increase = [0]\n",
    "            highestincmonth = row[0]\n",
    "            increase = monthlychange\n",
    "        #calculate the greatest decrease\n",
    "        if(monthlychange < decrease):\n",
    "            lowestdecmonth = row[0]\n",
    "            decrease = monthlychange\n",
    "                   \n",
    "               "
   ]
  },
  {
   "cell_type": "code",
   "execution_count": 33,
   "metadata": {},
   "outputs": [
    {
     "name": "stdout",
     "output_type": "stream",
     "text": [
      "Financial Analysis \n",
      "------------------------- \n",
      "Total Months: 87 \n",
      "Total Revenue: $39250462 \n",
      "Avg Revenue Change: $7714 \n",
      "Greatest Increase in Revenue: Feb-2012 ($1926159) \n",
      "Greatest Descrease in Revenue: Sep-2013 ($-2196167) \n",
      "\n"
     ]
    }
   ],
   "source": [
    "# f-strings to print financial results\n",
    "Results = (\n",
    "f\"Financial Analysis \\n\"\n",
    "f\"------------------------- \\n\"\n",
    "f\"Total Months: {Months} \\n\"\n",
    "f\"Total Revenue: ${P_L} \\n\"\n",
    "f\"Avg Revenue Change: ${avgRevChange} \\n\"\n",
    "f\"Greatest Increase in Revenue: {highestincmonth} (${increase}) \\n\"\n",
    "f\"Greatest Descrease in Revenue: {lowestdecmonth} (${decrease}) \\n\")\n",
    "print(Results)\n"
   ]
  },
  {
   "cell_type": "code",
   "execution_count": 34,
   "metadata": {},
   "outputs": [
    {
     "ename": "SyntaxError",
     "evalue": "EOL while scanning string literal (<ipython-input-34-dfc109574f4d>, line 2)",
     "output_type": "error",
     "traceback": [
      "\u001b[1;36m  File \u001b[1;32m\"<ipython-input-34-dfc109574f4d>\"\u001b[1;36m, line \u001b[1;32m2\u001b[0m\n\u001b[1;33m    outputtxt = os.path.join('PyBank'/'Resources'/budget_data.txt')\u001b[0m\n\u001b[1;37m                                                                   ^\u001b[0m\n\u001b[1;31mSyntaxError\u001b[0m\u001b[1;31m:\u001b[0m EOL while scanning string literal\n"
     ]
    }
   ],
   "source": [
    "#write text file to export results to text file\n",
    "outputtxt = os.path.join('PyBank'/'Resources'/budget_data.txt')\n",
    "with open(outputtxt, 'w') as txtfile:\n",
    "    txtwriter = txtfile.write(Results)\n",
    "    "
   ]
  },
  {
   "cell_type": "code",
   "execution_count": 15,
   "metadata": {},
   "outputs": [],
   "source": [
    "\n"
   ]
  },
  {
   "cell_type": "code",
   "execution_count": null,
   "metadata": {},
   "outputs": [],
   "source": []
  }
 ],
 "metadata": {
  "kernelspec": {
   "display_name": "Python 3",
   "language": "python",
   "name": "python3"
  },
  "language_info": {
   "codemirror_mode": {
    "name": "ipython",
    "version": 3
   },
   "file_extension": ".py",
   "mimetype": "text/x-python",
   "name": "python",
   "nbconvert_exporter": "python",
   "pygments_lexer": "ipython3",
   "version": "3.7.3"
  }
 },
 "nbformat": 4,
 "nbformat_minor": 2
}
