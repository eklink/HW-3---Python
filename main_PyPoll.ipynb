{
 "cells": [
  {
   "cell_type": "code",
   "execution_count": 8,
   "metadata": {},
   "outputs": [],
   "source": [
    "#import modules \n",
    "import os\n",
    "import csv\n"
   ]
  },
  {
   "cell_type": "code",
   "execution_count": 9,
   "metadata": {},
   "outputs": [],
   "source": [
    "file_num = 1\n",
    "\n",
    "#read in poll file\n",
    "file = os.path.join('election_data.csv')\n"
   ]
  },
  {
   "cell_type": "code",
   "execution_count": 10,
   "metadata": {},
   "outputs": [],
   "source": [
    "#create dictionary for candidate name and vote count\n",
    "poll = {}\n",
    "\n",
    "total_votes = 0\n"
   ]
  },
  {
   "cell_type": "code",
   "execution_count": 11,
   "metadata": {},
   "outputs": [],
   "source": [
    "#get data file\n",
    "with open(file, 'r') as csvfile:\n",
    "    csvread = csv.reader(csvfile)\n",
    "    #skips header line\n",
    "    next(csvread, None)\n",
    "    for row in csvread:\n",
    "        total_votes += 1\n",
    "        if row[2] in poll.keys():\n",
    "            poll[row[2]] = poll[row[2]] + 1\n",
    "        else:\n",
    "            poll[row[2]] = 1\n",
    "            "
   ]
  },
  {
   "cell_type": "code",
   "execution_count": 12,
   "metadata": {},
   "outputs": [],
   "source": [
    "#create empty list for candidates and vote count\n",
    "candidates = []\n",
    "num_votes = []\n",
    "\n",
    "for key, value in poll.items():\n",
    "    candidates.append(key)\n",
    "    num_votes.append(value)\n",
    "\n",
    "vote_percent = []\n",
    "for n in num_votes:\n",
    "    vote_percent.append(round(n/total_votes*100,1))\n",
    "\n",
    "clean_data = list(zip(candidates, num_votes, vote_percent))\n",
    "\n",
    "winner_list = []\n",
    "\n",
    "for name in clean_data:\n",
    "    if max(num_votes) == name[1]:\n",
    "        winner_list.append(name[0])\n",
    "        \n",
    "winner = winner_list[0]\n",
    "\n",
    "if len(winner_list) > 1:\n",
    "    for w in range(1,len(winner_list)):\n",
    "        winner = winner + \",\" + winner_list[w]\n",
    "        \n",
    "        "
   ]
  },
  {
   "cell_type": "code",
   "execution_count": 13,
   "metadata": {},
   "outputs": [
    {
     "ename": "SyntaxError",
     "evalue": "unexpected EOF while parsing (<ipython-input-13-ced6eececfa2>, line 13)",
     "output_type": "error",
     "traceback": [
      "\u001b[1;36m  File \u001b[1;32m\"<ipython-input-13-ced6eececfa2>\"\u001b[1;36m, line \u001b[1;32m13\u001b[0m\n\u001b[1;33m    print(readfile.read()\u001b[0m\n\u001b[1;37m                         ^\u001b[0m\n\u001b[1;31mSyntaxError\u001b[0m\u001b[1;31m:\u001b[0m unexpected EOF while parsing\n"
     ]
    }
   ],
   "source": [
    "# print to file \n",
    "output_file = os.path.join('Output', 'election_results_' + str(file_num) +'.txt')\n",
    "\n",
    "with open(output_file, 'w') as txtfile:\n",
    "    txtfile.writelines('Election Results \\n------------------------- \\nTotal Votes: ' + str(total_votes) + \n",
    "      '\\n-------------------------\\n')\n",
    "    for entry in clean_data:\n",
    "        txtfile.writelines(entry[0] + \": \" + str(entry[2]) +'%  (' + str(entry[1]) + ')\\n')\n",
    "    txtfile.writelines('------------------------- \\nWinner: ' + winner + '\\n-------------------------')\n",
    "\n",
    "#prints file to terminal\n",
    "with open(output_file, 'r') as readfile:\n",
    "    print(readfile.read()"
   ]
  },
  {
   "cell_type": "code",
   "execution_count": null,
   "metadata": {},
   "outputs": [],
   "source": []
  }
 ],
 "metadata": {
  "kernelspec": {
   "display_name": "Python 3",
   "language": "python",
   "name": "python3"
  },
  "language_info": {
   "codemirror_mode": {
    "name": "ipython",
    "version": 3
   },
   "file_extension": ".py",
   "mimetype": "text/x-python",
   "name": "python",
   "nbconvert_exporter": "python",
   "pygments_lexer": "ipython3",
   "version": "3.7.3"
  }
 },
 "nbformat": 4,
 "nbformat_minor": 2
}
